{
  "cells": [
    {
      "cell_type": "markdown",
      "id": "0d5035b5",
      "metadata": {},
      "source": [
        "# Listas\n",
        "\n",
        "## Aulas 6.1 a 6.5 "
      ]
    },
    {
      "cell_type": "markdown",
      "id": "0bdece85",
      "metadata": {},
      "source": [
        "### Q1. \n",
        "\n",
        "Usando a função embutida ```map``` e criando uma função ```lambda```, transforme uma lista com os raios de múltiplas circunferências em uma nova lista com as respectivas áreas. O cálculo de cada área é dado por: ```pi*(raio**2)```\n",
        "- Use a constante pi da biblioteca math \n",
        "- Arredonde o resultado para 2 casas decimais\n"
      ]
    },
    {
      "cell_type": "code",
      "execution_count": null,
      "id": "0a258eba",
      "metadata": {
        "trusted": true
      },
      "outputs": [],
      "source": [
        "import math\n",
        "raios = [1.5, 0.8, 2.3, 5.0]\n",
        "areas = list(map(lambda r: round(math.pi * r**2, 2), raios))\n",
        "print(areas)\n",
        "raios = [1.5, 0.8, 2.3, 5.0]\n",
        "\n",
        "\n"
      ]
    },
    {
      "cell_type": "markdown",
      "id": "649a5082",
      "metadata": {},
      "source": [
        "### Q2. \n",
        "\n",
        "Crie uma função customizada e aplique a função embutida ```filter``` para operar em uma lista de listas contendo os lados de múltiplos triângulos. Construa uma nova lista contendo apenas os triângulos equiláteros, ou seja, com os três lados iguais.\n"
      ]
    },
    {
      "cell_type": "code",
      "execution_count": null,
      "id": "47cb0573",
      "metadata": {
        "trusted": true
      },
      "outputs": [],
      "source": [
        "def testa_equilatero(lados):\n",
        "    return lados[0] == lados[1] == lados[2]\n",
        "\n",
        "equilateros = list(filter(testa_equilatero, triangulos))\n",
        "\n",
        "print(equilateros)\n",
        "def testa_equilatero(lados):\n",
        "    \n",
        "triangulos  = [[2,2,2], [3,4,5], [3,2,2],[4,4,4]]"
      ]
    },
    {
      "cell_type": "markdown",
      "id": "bb62d219",
      "metadata": {},
      "source": [
        "### Q3. \n",
        "Crie uma função chamada ```ordena_por_comprimento``` que aceite uma lista de strings e a ordene com base no comprimento das strings, do menor para o maior. Utilize a função ```sorte``` e uma expressão ```lambda```."
      ]
    },
    {
      "cell_type": "code",
      "execution_count": null,
      "id": "add41556",
      "metadata": {
        "trusted": true
      },
      "outputs": [],
      "source": [
        "def ordena_por_comprimento(lista):\n",
        "    return sorted(lista, key=lambda x: len(x))\n",
        "\n",
        "nomes = [\"Joao\", \"Maria\", \"Jose\", \"Gabriela\", \"Sol\", \"Luna\", \"Bento\", \"Enzo\", \"Fernanda\"]\n",
        "ordenados = ordena_por_comprimento(nomes)\n",
        "print(ordenados)\n",
        "\n",
        "\n",
        "### aplique sua função à seguinte lista e imprima o resultado\n",
        "\n",
        "Resultado: ['Sol', 'Joao', 'Jose', 'Luna', 'Enzo', 'Maria', 'Bento', 'Gabriela', 'Fernanda']\n",
        "\n"
      ]
    },
    {
      "cell_type": "markdown",
      "id": "8710b1a7",
      "metadata": {},
      "source": [
        "### Q4.\n",
        "\n",
        "Crie uma lista de listas (uma matriz de 2 dimensões) de tamanho $n \\times n$, com $n$ dado pelo usuário. Cada elemento da matriz deve ser o produto dos índices da linha pela coluna.\n",
        "\n",
        "Exemplo:\n",
        "```\n",
        "Digite n: 4\n",
        "Matriz:\n",
        "[[0, 0, 0, 0],\n",
        " [0, 1, 2, 3],\n",
        " [0, 2, 4, 6],\n",
        " [0, 3, 6, 9]]\n",
        "```"
      ]
    },
    {
      "cell_type": "code",
      "execution_count": null,
      "id": "0b7ee921",
      "metadata": {
        "trusted": true
      },
      "outputs": [],
      "source": [
        "n = int(input(\"Digite n: \"))\n",
        "\n",
        "matriz = [[i * j for j in range(n)] for i in range(n)]\n",
        "\n",
        "print(\"Matriz:\")\n",
        "for linha in matriz:\n",
        "    print(linha)"
      ]
    },
    {
      "cell_type": "markdown",
      "id": "f41781df",
      "metadata": {},
      "source": [
        "### Q5.\n",
        "\n",
        "Dada uma lista de números inteiros, implemente uma função em Python chamada ```pares_unicos``` que encontre e retorne todos os pares únicos de elementos na lista cuja soma seja igual a um determinado valor. Considere que a ordem dos pares não é relevante."
      ]
    },
    {
      "cell_type": "code",
      "execution_count": null,
      "id": "7a76f765",
      "metadata": {
        "trusted": true
      },
      "outputs": [],
      "source": [
        "def pares_unicos(numeros, soma_objetivo):\n",
        "    pares = set()\n",
        "    numeros_vistos = set()\n",
        "\n",
        "    for numero in numeros:\n",
        "        complemento = soma_objetivo - numero\n",
        "        if complemento in numeros_vistos:\n",
        "            pares.add(tuple(sorted((numero, complemento))))\n",
        "        numeros_vistos.add(numero)\n",
        "    \n",
        "    return list(pares)\n",
        "\n",
        "nums = [3, 4, 5, 6, 7]\n",
        "soma = 10\n",
        "resultado = pares_unicos(nums, soma)\n",
        "\n",
        "print(resultado)  # Saída esperada: [(3, 7), (4, 6)]"
      ]
    },
    {
      "cell_type": "markdown",
      "id": "87e44893",
      "metadata": {},
      "source": [
        "### Q5.\n",
        "def diferenca_entre_listas(lista1, lista2):\n",
        "    lista1_copy = lista1[:]  # Cria uma cópia da lista1 para não modificar a original\n",
        "    for elemento in lista2:\n",
        "        if elemento in lista1_copy:\n",
        "            lista1_copy.remove(elemento)\n",
        "    return lista1_copy\n",
        "lista1 = [1, 1, 2, 3, 3, 4, 4, 5, 6, 7]\n",
        "lista2 = [1, 1, 2, 4, 5, 6]\n",
        "diferenca = diferenca_entre_listas(lista1, lista2)\n",
        "\n",
        "print(\"Listas originais:\")\n",
        "print(\"Lista 1:\", lista1)\n",
        "print(\"Lista 2:\", lista2)\n",
        "print(\"Diferença entre as listas:\")\n",
        "print(diferenca)\n",
        "\n",
        "Escreva um programa para encontrar a diferença entre duas listas, incluindo elementos duplicados.\n",
        "\n",
        "Ex:\n",
        "```\n",
        "Listas originais: \n",
        "[1, 1, 2, 3, 3, 4, 4, 5, 6, 7]\n",
        "[1, 1, 2, 4, 5, 6]\n",
        "Diferença entre as listas:\n",
        "[3, 3, 4, 7]\n",
        "```"
      ]
    },
    {
      "cell_type": "code",
      "execution_count": null,
      "id": "7edc027c",
      "metadata": {
        "trusted": true
      },
      "outputs": [],
      "source": [
        "def diferenca_entre_listas(lista1, lista2):\n",
        "    lista1_copy = lista1[:]  \n",
        "    for elemento in lista2:\n",
        "        if elemento in lista1_copy:\n",
        "            lista1_copy.remove(elemento)\n",
        "    return lista1_copy\n",
        "lista1 = [1, 1, 2, 3, 3, 4, 4, 5, 6, 7]\n",
        "lista2 = [1, 1, 2, 4, 5, 6]\n",
        "\n",
        "diferenca = diferenca_entre_listas(lista1, lista2)\n",
        "\n",
        "print(\"Listas originais:\")\n",
        "print(\"Lista 1:\", lista1)\n",
        "print(\"Lista 2:\", lista2)\n",
        "print(\"Diferença entre as listas:\")\n",
        "print(diferenca)"
      ]
    },
    {
      "cell_type": "markdown",
      "id": "f4c4236d",
      "metadata": {},
      "source": [
        "### Q6.\n",
        "\n",
        "Dada uma lista aleatória, escreva um programa que separa os valores em listas menores de acordo com o tamanho solicitado. Caso não seja possível repartir igualmente a lista original, a última sublista deve conter os elementos remanescentes, como indicado no exemplo a seguir.\n",
        "\n",
        "Note que seu programa deve continuar executando em um laço infinito até que o usuário informe o tamanho 0 na entrada solicitada.\n",
        "\n",
        "```\n",
        "Lista original:\n",
        "[12, 45, 23, 67, 78, 90, 45, 32, 100, 76, 38, 62, 73, 29, 83]\n",
        "\n",
        "Tamanho para divisão: 3\n",
        "Subslistas:\n",
        "[[12, 45, 23], [67, 78, 90], [45, 32, 100], [76, 38, 62], [73, 29, 83]]\n",
        "\n",
        "Tamanho para divisão: 4\n",
        "Subslistas: [[12, 45, 23, 67], [78, 90, 45, 32], [100, 76, 38, 62], [73, 29, 83]]\n",
        "\n",
        "Tamanho para divisão: 0\n",
        "```"
      ]
    },
    {
      "cell_type": "code",
      "execution_count": null,
      "id": "792563de",
      "metadata": {
        "trusted": true
      },
      "outputs": [],
      "source": [
        "import random\n",
        "lista = [random.randint(1,100) for i in range(20)]\n"
      ]
    },
    {
      "cell_type": "markdown",
      "id": "c65be32f",
      "metadata": {},
      "source": [
        "### Q7.\n",
        "\n",
        "Você está desenvolvendo um programa para determinar o vencedor de um jogo da velha. Escreva uma função ```avalia_tabuleiro()``` que recebe uma lista representando o estado atual do tabuleiro e determina se há um vencedor. \n",
        "\n",
        "A lista terá 3 sublistas, cada uma representando uma linha do tabuleiro. Cada elemento das sublistas pode ser 'X', 'O' ou vazio (' ').\n",
        "\n",
        "O programa deve imprimir o vencedor ('X', 'O'), se houver um, ou \"Empate\" se não houver vencedor. Um vencedor é determinado se houver três 'X' ou três 'O' em linha (horizontal, vertical ou diagonal).\n",
        "\n",
        "Exemplo:\n",
        "```python\n",
        "tabuleiro = [\n",
        "    ['X', 'O', 'X'],\n",
        "    [' ', 'X', 'O'],\n",
        "    ['O', ' ', 'O']\n",
        "]\n",
        "```\n",
        "O resultado seria \"Empate\", pois não há um vencedor no exemplo fornecido. \n",
        "\n",
        "Exemplo 2:\n",
        "```python\n",
        "tabuleiro = [\n",
        "    ['O', 'X', 'O'],\n",
        "    ['X', 'O', 'X'],\n",
        "    ['X', ' ', 'O']\n",
        "]\n",
        "```\n",
        "O resultado seria \"O\", pois 'O' venceu na diagonal central."
      ]
    },
    {
      "cell_type": "code",
      "execution_count": null,
      "id": "720ca24d",
      "metadata": {
        "trusted": true
      },
      "outputs": [],
      "source": [
        "def avalia_tabuleiro(tabuleiro):\n",
        "    linhas = tabuleiro\n",
        "    colunas = [[tabuleiro[j][i] for j in range(3)] for i in range(3)]\n",
        "    diagonais = [[tabuleiro[i][i] for i in range(3)], [tabuleiro[i][2-i] for i in range(3)]]\n",
        "\n",
        "    for linha in linhas + colunas + diagonais:\n",
        "        if linha == ['X'] * 3:\n",
        "            return 'X'\n",
        "        elif linha == ['O'] * 3:\n",
        "            return 'O'\n",
        "    \n",
        "    return 'Empate'\n",
        "\n",
        "\n",
        "### teste a função nos seguintes tabuleiros\n",
        "\n",
        "tabuleiro1 = [\n",
        "    ['X', 'O', 'X'],\n",
        "    [' ', 'X', 'O'],\n",
        "    ['O', ' ', 'X']\n",
        "]\n",
        "\n",
        "tabuleiro2 = [\n",
        "    ['X', 'O', 'O'],\n",
        "    ['X', 'X', 'O'],\n",
        "    ['X', 'O', 'X']\n",
        "]\n",
        "\n",
        "tabuleiro3 = [\n",
        "    [' ', ' ', ' '],\n",
        "    ['X', ' ', 'O'],\n",
        "    ['O', 'X', 'X']\n",
        "]\n",
        "\n",
        "tabuleiro4 = [\n",
        "    ['O', 'O', 'O'],\n",
        "    ['X', ' ', 'X'],\n",
        "    ['O', 'X', 'X']\n",
        "]\n",
        "\n",
        "tabuleiro5 = [\n",
        "    ['X', 'X', 'O'],\n",
        "    ['X', ' ', 'O'],\n",
        "    ['O', 'O', 'X']\n",
        "]\n",
        "\n",
        "print(avalia_tabuleiro(tabuleiro1))  # X\n",
        "print(avalia_tabuleiro(tabuleiro2))  # X\n",
        "print(avalia_tabuleiro(tabuleiro3))  # Empate\n",
        "print(avalia_tabuleiro(tabuleiro4))  # O\n",
        "print(avalia_tabuleiro(tabuleiro5))  # Empate"
      ]
    }
  ],
  "metadata": {
    "kernelspec": {
      "display_name": "Python (Pyodide)",
      "language": "python",
      "name": "python"
    },
    "language_info": {
      "codemirror_mode": {
        "name": "python",
        "version": 3
      },
      "file_extension": ".py",
      "mimetype": "text/x-python",
      "name": "python",
      "nbconvert_exporter": "python",
      "pygments_lexer": "ipython3",
      "version": "3.8"
    }
  },
  "nbformat": 4,
  "nbformat_minor": 5
}
