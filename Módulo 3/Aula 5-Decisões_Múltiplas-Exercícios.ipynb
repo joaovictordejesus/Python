{
  "metadata": {
    "kernelspec": {
      "name": "python",
      "display_name": "Python (Pyodide)",
      "language": "python"
    },
    "language_info": {
      "codemirror_mode": {
        "name": "python",
        "version": 3
      },
      "file_extension": ".py",
      "mimetype": "text/x-python",
      "name": "python",
      "nbconvert_exporter": "python",
      "pygments_lexer": "ipython3",
      "version": "3.8"
    }
  },
  "nbformat_minor": 5,
  "nbformat": 4,
  "cells": [
    {
      "id": "559687a1",
      "cell_type": "markdown",
      "source": "# Módulo 3 - Condicionais\n\n## 3.5 - Decisões Múltiplas",
      "metadata": {}
    },
    {
      "id": "42f823b3",
      "cell_type": "markdown",
      "source": "### Q1.\n\nVamos fazer uma calculadora! Escreva um programa que solicita 3 entradas: o primeiro operando (float), o operador (caracter) e o segundo operando (float). Seu programa deve imprimir o resultado da operação solicitada, entre soma (+), subtração (-), divisão (/), multiplicação (\\*) ou potência (\\*\\*). Seu programa também deve imprimir uma mensagem de erro se a operação solicitada não estiver dentre as opções disponíveis.\n\nSeguem alguns exemplos de interação com seu código no terminal. \n\n\n```\nDigite o primeiro operando: 5.2\nDigite o operador (+, -, /, *, **): *\nDigite o segundo operando` 3\nResultado: 5.2 * 3.0 = 15.6\n```\n\n```\nDigite o primeiro operando: 8\nDigite o operador (+, -, /, *, **): **\nDigite o segundo operando: 2\nResultado: 8.0 * 2.0 = 64.0\n```\n\n```\nDigite o primeiro operando: 7\nDigite o operador (+, -, /, *, **): %\nDigite o segundo operando: 3.4\nErro! Operação inválida. \n```\n\n```\nDigite o primeiro operando: 10\nDigite o operador (+, -, /, *, **): /\nDigite o segundo operando: 2.5\nResultado: 10.0 / 2.5 = 4.0\n```\n\n",
      "metadata": {}
    },
    {
      "id": "c5b8cd4d",
      "cell_type": "code",
      "source": "    primeiro_operando = float(input(\"Digite o primeiro número: \"))\n \n    operador = input(\"Digite o operador (+, -, /, *, **): \")\n\n    segundo_operando = float(input(\"Digite o segundo número: \"))\n\n    if operador == '+':\n        resultado = primeiro_numero + segundo_numero\n        print(f\"Resultado: {primeiro_numero} + {segundo_numero} = {resultado}\")\n    elif operador == '-':\n        resultado = primeiro_numero - segundo_numero\n        print(f\"Resultado: {primeiro_numero} - {segundo_numero} = {resultado}\")\n    elif operador == '*':\n        resultado = primeiro_numero * segundo_numero\n        print(f\"Resultado: {primeiro_numero} * {segundo_numero} = {resultado}\")\n    elif operador == '/':\n        if segundo_numero != 0:\n            resultado = primeiro_numero / segundo_numero\n            print(f\"Resultado: {primeiro_numero} / {segundo_numero} = {resultado}\")\n        else:\n            print(\"Divisão por zero não é possível.\")\n    elif operador == '**':\n        resultado = primeiro_operando ** segundo_operando\n        print(f\"Resultado: {primeiro_operando} ** {segundo_operando} = {resultado}\")\n    else:\n        print(\"Operação inválida.\")\n\n\n",
      "metadata": {
        "trusted": true
      },
      "outputs": [],
      "execution_count": null
    },
    {
      "id": "d135df39",
      "cell_type": "markdown",
      "source": "### Q2.\n\nEscreva um programa que leia os comprimentos dos 3 lados de um triângulo e diga se o triângulo é equilátero, isóceles ou escaleno. Regras:\n- Isóceles: Quaisquer dois lados com o mesmo comprimento\n- Equilátero: Os três lados tem o mesmo comprimento\n- Escaleno: Três lados de comprimento diferente \n\nNote que a ordem das condições importa! Seguem alguns exemplos de interação com seu código no terminal. \n\n```\nDigite o comprimento do lado 1: 4\nDigite o comprimento do lado 2: 4\nDigite o comprimento do lado 3: 6\nTriângulo: Isóceles\n```\n\n```\nDigite o comprimento do lado 1: 5\nDigite o comprimento do lado 2: 5\nDigite o comprimento do lado 3: 5\nTriângulo: Equilátero\n```\n\n```\nDigite o comprimento do lado 1: 7\nDigite o comprimento do lado 2: 4\nDigite o comprimento do lado 3: 9\nTriângulo: Escaleno\n```\n\n",
      "metadata": {}
    },
    {
      "id": "cfcf9a80",
      "cell_type": "code",
      "source": "    lado1 = float(input(\"Digite o comprimento do lado 1: \"))\n    lado2 = float(input(\"Digite o comprimento do lado 2: \"))\n    lado3 = float(input(\"Digite o comprimento do lado 3: \"))\n\n    if lado1 == lado2 == lado3:\n        print(\"Triângulo: Equilátero\")\n    elif lado1 == lado2 or lado1 == lado3 or lado2 == lado3:\n        print(\"Triângulo: Isóceles\")\n    else:\n        print(\"Triângulo: Escaleno\")\n\n\n",
      "metadata": {
        "trusted": true,
        "scrolled": true
      },
      "outputs": [],
      "execution_count": null
    },
    {
      "id": "ed3405fb",
      "cell_type": "markdown",
      "source": "### Q3.\n\nVocê está desenvolvendo um sistema de avaliação de desempenho para um jogo. Escreva um programa em Python que avalia a pontuação do jogador em uma missão e atribui uma classificação com base nas seguintes condições:\n\n- Se a pontuação for menor que 70, atribua a classificação \"Insatisfatório\".\n- Se a pontuação for maior ou igual a 70, atribua a classificação \"Regular\".\n- Se a pontuação for maior ou igual a 80, atribua a classificação \"Bom\".\n- Se a pontuação for maior ou igual a 90, atribua a classificação \"Excelente\".\n\nEscreva um programa que solicita ao usuário a pontuação e imprime a classificação correspondente.",
      "metadata": {}
    },
    {
      "id": "a7a842ae",
      "cell_type": "code",
      "source": "     pontuacao = float(input(\"Digite a pontuação do jogador: \"))\n\n    if pontuacao >= 90:\n        classificacao = \"Excelente\"\n    elif pontuacao >= 80:\n        classificacao = \"Bom\"\n    elif pontuacao >= 70:\n        classificacao = \"Regular\"\n    else:\n        classificacao = \"Insatisfatório\"\n\n    print(f\"Classificação: {classificacao}\")\n\navaliar_desempenho()\n\n\n\n",
      "metadata": {
        "trusted": true
      },
      "outputs": [],
      "execution_count": null
    },
    {
      "id": "6cafaa50",
      "cell_type": "markdown",
      "source": "### Q4.\n\nVocê está implementando um sistema de desconto em uma loja online. Escreva um programa em Python que calcula o desconto com base no valor total da compra e atribui diferentes níveis de desconto de acordo com as seguintes condições:\n\n- Se o valor total da compra for menor que R\\$ 50, não há desconto.\n- Se o valor total da compra for maior ou igual a R\\$ 50, atribua um desconto de 10%.\n- Se o valor total da compra for maior ou igual a R\\$ 100, atribua um desconto de 20%.\n\n\nSeguem alguns exemplos de interação com seu código no terminal. Preste atenção na formatação esperada para as saídas.\n\n```\nDigite o valor total da compra: 120\nDesconto aplicado: 20.0%\nValor final com desconto: R$96.00\n```\n\n```\nDigite o valor total da compra: 65\nDesconto aplicado: 10.0%\nValor final com desconto: R$58.50\n```\n\n```\nDigite o valor total da compra: 40\nDesconto aplicado: 0.0%\nValor final com desconto: R$40.00\n```\n\n\n",
      "metadata": {}
    },
    {
      "id": "3b1b1929",
      "cell_type": "code",
      "source": "    valor_total = float(input(\"Digite o valor total da compra: \"))\n\n    if valor_total >= 100:\n        percentual_desconto = 20.0\n    elif valor_total >= 50:\n        percentual_desconto = 10.0\n    else:\n        percentual_desconto = 0.0\n\n    valor_desconto = (percentual_desconto / 100) * valor_total\n    valor_final = valor_total - valor_desconto\n\n    print(f\"Desconto aplicado: {percentual_desconto}%\")\n    print(f\"Valor final com desconto: R${valor_final:.2f}\")\n\n\n",
      "metadata": {
        "trusted": true
      },
      "outputs": [],
      "execution_count": null
    },
    {
      "id": "dc5db6d7",
      "cell_type": "markdown",
      "source": "### Q5.\n\nVocê está projetando um sistema de autenticação baseado na análise da íris (parte colorida do olho). Ao acionado, o sistema coleta e retorna 3 valores inteiros referentes a atributos da íris visível. Mas o sistema não é perfeito, tendo uma margem de erro do sensor de +/- $5$. \n\nO código abaixo tem os atributos dos 4 usuários cadastrados no sistema. Você deve completar om código, pedindo ao usuário para inserir uma nova leitura de padrão de íris. O programa deve comparar o padrão inserido com os padrões cadastrados no banco de dados. Se o padrão estiver dentro da tolerância estabelecida, o usuário é autenticado com sucesso. Caso contrário, a autenticação falha.\n\n**Dica:** A função do python ```abs()``` retorna o valor absoluto de um elemento. Ex: \n```\n>>> print(abs(987-982))\n5\n>>> print(abs(987-992))\n5\n```\n\nSeguem alguns exemplos de interação com seu código no terminal.\n\n```\nInsira o padrão de íris para autenticação.\nAtributo 1: 111\nAtributo 2: 222\nAtributo 3: 333\nAutenticação bem-sucedida! \nUsuário: 3\n```\n\n```\nInsira o padrão de íris para autenticação.\nAtributo 1: 111\nAtributo 2: 200\nAtributo 3: 333\nAutenticação falhou! \n```\n\n```\nInsira o padrão de íris para autenticação.\nAtributo 1: 982\nAtributo 2: 653\nAtributo 3: 324\nAutenticação bem-sucedida! \nUsuário: 2\n```",
      "metadata": {}
    },
    {
      "id": "b90304eb",
      "cell_type": "code",
      "source": "## Não altere os atributos definidos a seguir\niris1_a1, iris1_a2, iris1_a3 = 123, 456, 789\niris2_a1, iris2_a2, iris2_a3 = 987, 654, 321\niris3_a1, iris3_a2, iris3_a3 = 111, 222, 333\niris4_a1, iris4_a2, iris4_a3 = 444, 555, 666\n\n# Atributos dos usuários cadastrados no sistema\nusuarios = {\n    \"usuario1\": [123, 456, 789],\n    \"usuario2\": [987, 654, 321],\n    \"usuario3\": [111, 222, 333],\n    \"usuario4\": [444, 555, 666]\n}\nmargem_erro = 5\ndef autenticar_iris(nova_leitura):\n\n    for usuario, atributos in usuarios.items():\n        if (abs(nova_leitura[0] - atributos[0]) <= margem_erro and\n            abs(nova_leitura[1] - atributos[1]) <= margem_erro and\n            abs(nova_leitura[2] - atributos[2]) <= margem_erro):\n            return f\"Usuário autenticado com sucesso: {usuario}\"\n    \n    return \"Autenticação falhou\"\n\nnova_leitura = [\n    int(input(\"Digite o valor do primeiro atributo da íris: \")),\n    int(input(\"Digite o valor do segundo atributo da íris: \")),\n    int(input(\"Digite o valor do terceiro atributo da íris: \"))\n]\n\nresultado = autenticar_iris(nova_leitura)\nprint(resultado)\n\n",
      "metadata": {
        "trusted": true
      },
      "outputs": [],
      "execution_count": null
    }
  ]
}