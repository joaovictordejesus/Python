{
  "metadata": {
    "kernelspec": {
      "name": "python",
      "display_name": "Python (Pyodide)",
      "language": "python"
    },
    "language_info": {
      "codemirror_mode": {
        "name": "python",
        "version": 3
      },
      "file_extension": ".py",
      "mimetype": "text/x-python",
      "name": "python",
      "nbconvert_exporter": "python",
      "pygments_lexer": "ipython3",
      "version": "3.8"
    }
  },
  "nbformat_minor": 5,
  "nbformat": 4,
  "cells": [
    {
      "id": "0d5035b5",
      "cell_type": "markdown",
      "source": "# Tupla\n\n## Aula 8.2",
      "metadata": {}
    },
    {
      "id": "0bdece85",
      "cell_type": "markdown",
      "source": "### Q1. \n\nEscreva uma função ```calcula_area_perimetro``` que recebe **apenas um parâmetro** ```dimensoes``` e calcula a área e o perímetro a partir das dimensões dadas. \n- ```dimensoes``` é uma tupla (largura, comprimento) com as dimensões de um terreno retangular\n- Sua função deve calcular e retornar as seguintes operações\n   - $area = largura \\times comprimento$\n   - $perimetro = 2\\times(largura + comprimento)$\n",
      "metadata": {}
    },
    {
      "id": "0a258eba",
      "cell_type": "code",
      "source": "def calcula_area_perimetro(dimensoes):\n    largura, comprimento = dimensoes\n    area = largura * comprimento\n    perimetro = 2 * (largura + comprimento)\n    return area, perimetro\n",
      "metadata": {
        "trusted": true
      },
      "outputs": [],
      "execution_count": null
    },
    {
      "id": "e1866c04",
      "cell_type": "code",
      "source": "# Complete o exemplo de uso abaixo\nlargura = 5\ncomprimento = 7\n\nretorno = calcula_area_perimetro((largura, comprimento))\nprint(retorno, type(retorno))",
      "metadata": {
        "trusted": true
      },
      "outputs": [],
      "execution_count": null
    },
    {
      "id": "cbdcb986",
      "cell_type": "markdown",
      "source": "### Q2.\n\nDada uma string, imprima todas as vogais que aparecem na string, bem como todos os índices onde elas ocorrem. Para isso, use a função ```enumerate```.\n",
      "metadata": {}
    },
    {
      "id": "1f6b1f2d",
      "cell_type": "code",
      "source": "frase = \"O rato roeu a roupa da Alice\"\n\nvogais = \"aeiouAEIOUáÁéÉíÍóÓúÚÃã\"\nresultado = [(indice, letra) for indice, letra in enumerate(frase) if letra in vogais]\n\nfor indice, vogal in resultado:\n    print(f\"Vogal: {vogal} no índice: {indice}\")",
      "metadata": {
        "trusted": true
      },
      "outputs": [],
      "execution_count": null
    },
    {
      "id": "8d46663f",
      "cell_type": "markdown",
      "source": "### Q3.\n\nEscreva uma função em Python chamada ```ordenar_tuplas``` que recebe uma lista de tuplas, cada uma contendo o nome de um aluno e sua respectiva média, e retorna uma nova lista ordenada em ordem decrescente de médias.",
      "metadata": {}
    },
    {
      "id": "469f2e6e",
      "cell_type": "code",
      "source": "def ordenar_tuplas(lista):\n    return sorted(lista, key=lambda x: x[1], reverse=True)\n",
      "metadata": {
        "trusted": true
      },
      "outputs": [],
      "execution_count": null
    },
    {
      "id": "1972c62b",
      "cell_type": "code",
      "source": "# Exemplo de uso:\nalunos_notas = [('Alice', 8.5), ('Bob', 7.2), ('Charlie', 9.0), ('David', 8.8)]\nresultado = ordenar_tuplas(alunos_notas)\nprint(resultado)\n# Saída esperada: [('Charlie', 9.0), ('David', 8.8), ('Alice', 8.5), ('Bob', 7.2)]",
      "metadata": {
        "trusted": true
      },
      "outputs": [],
      "execution_count": null
    },
    {
      "id": "e0268fae",
      "cell_type": "markdown",
      "source": "### Q4.\n\nEscreva uma função em Python chamada ```comprimir_tuplas``` que recebe uma lista de tuplas, cada uma contendo uma palavra e um número, e retorna uma nova lista de tuplas onde palavras idênticas são agrupadas e seus números são somados.\n\n",
      "metadata": {}
    },
    {
      "id": "30a221f3",
      "cell_type": "code",
      "source": "def comprimir_tuplas(lista):\n    dicionario = {}\n    for palavra, numero in lista:\n        if palavra in dicionario:\n            dicionario[palavra] += numero\n        else:\n            dicionario[palavra] = numero\n    return list(dicionario.items())",
      "metadata": {
        "trusted": true
      },
      "outputs": [],
      "execution_count": null
    },
    {
      "id": "80972bac",
      "cell_type": "code",
      "source": "# Exemplo de uso:\ntuplas_originais = [('maçã', 3), ('banana', 2), ('maçã', 5), ('laranja', 1), ('banana', 3)]\nresultado = comprimir_tuplas(tuplas_originais)\nprint(resultado)\n# Saída esperada: [('maçã', 8), ('banana', 5), ('laranja', 1)]",
      "metadata": {
        "trusted": true
      },
      "outputs": [],
      "execution_count": null
    },
    {
      "id": "649a5082",
      "cell_type": "markdown",
      "source": "### Q5. \n\n- Escreva um script que peça o nome e a idade de todos na fila de uma balada. Crie uma lista de tuplas com os pares ```(nome, idade)``` de cada um. \n- Em seguida crie e imprima duas tuplas apenas com os nomes, uma com os menores de idade que não poderão entrar, e uma com os maiores de idade (```idade >= 18```). \n\n",
      "metadata": {}
    },
    {
      "id": "47cb0573",
      "cell_type": "code",
      "source": "def balada():\n    pessoas = [] \n    while True:\n        nome = input(\"Digite o nome (ou 'sair' para terminar): \")\n        if nome.lower() == 'sair':\n            break\n        idade = int(input(\"Digite a idade: \"))\n        pessoas.append((nome, idade))\n    \n    menores = tuple(nome for nome, idade in pessoas if idade < 18)\n    maiores = tuple(nome for nome, idade in pessoas if idade >= 18)\n    \n    print(\"Menores de idade:\", menores)\n    print(\"Maiores de idade:\", maiores)\nbalada()",
      "metadata": {
        "trusted": true
      },
      "outputs": [],
      "execution_count": null
    }
  ]
}